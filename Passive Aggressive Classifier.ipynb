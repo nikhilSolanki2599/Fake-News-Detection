{
 "cells": [
  {
   "cell_type": "code",
   "execution_count": 1,
   "id": "587aedee",
   "metadata": {},
   "outputs": [],
   "source": [
    "#pip install nltk"
   ]
  },
  {
   "cell_type": "code",
   "execution_count": 2,
   "id": "1bc0ae20",
   "metadata": {},
   "outputs": [],
   "source": [
    "import numpy as np\n",
    "import pandas as pd\n",
    "import pandas as pd\n",
    "import matplotlib.pyplot as plt\n",
    "from sklearn.metrics import f1_score\n",
    "from sklearn.model_selection import train_test_split\n",
    "from sklearn.feature_extraction.text import TfidfVectorizer\n",
    "from sklearn.linear_model import PassiveAggressiveClassifier\n",
    "from sklearn.metrics import accuracy_score"
   ]
  },
  {
   "cell_type": "code",
   "execution_count": 3,
   "id": "65d76504",
   "metadata": {},
   "outputs": [],
   "source": [
    "train = pd.read_csv('train.csv')\n",
    "test = pd.read_csv('test.csv')"
   ]
  },
  {
   "cell_type": "code",
   "execution_count": 4,
   "id": "fae80a38",
   "metadata": {},
   "outputs": [],
   "source": [
    "# Dropping all rows where text column is NaN\n",
    "train.dropna(axis=0, how=\"any\", thresh=None, subset=['text'], inplace=True)\n",
    "#filling all nan rows with empty string\n",
    "test = test.fillna(' ')\n",
    "\n",
    "# Checking length of each article\n",
    "length = []\n",
    "for text in train['text']:\n",
    "    length.append(len(str(text)))\n",
    "train['length'] = length\n",
    "\n",
    "# Removing outliers, it will reduce overfitting\n",
    "train = train.drop(train['text'][train['length'] < 50].index, axis = 0)"
   ]
  },
  {
   "cell_type": "code",
   "execution_count": 5,
   "id": "a6135eba",
   "metadata": {},
   "outputs": [],
   "source": [
    "# Secluding labels in a new pandas dataframe for supervised learning\n",
    "train_labels = train['label']\n",
    "# Splitting data into training and testing sets\n",
    "x_train, x_test, y_train, y_test = train_test_split(train['text'], train_labels, test_size=0.2, random_state=0)"
   ]
  },
  {
   "cell_type": "code",
   "execution_count": 6,
   "id": "f399e2d0",
   "metadata": {},
   "outputs": [],
   "source": [
    "# Setting up Term Frequency - Inverse Document Frequency Vectorizer\n",
    "tfidf = TfidfVectorizer(stop_words = 'english', max_df = 0.7,max_features=50)\n",
    "# Fit and transform training set and transform test set\n",
    "tfidf_train = tfidf.fit_transform(x_train) \n",
    "tfidf_test = tfidf.transform(x_test)\n",
    "tfidf_test_final = tfidf.transform(test['text'])"
   ]
  },
  {
   "cell_type": "code",
   "execution_count": 7,
   "id": "1038c911",
   "metadata": {},
   "outputs": [
    {
     "name": "stdout",
     "output_type": "stream",
     "text": [
      "\n"
     ]
    }
   ],
   "source": [
    "# Setting up Passive Aggressive Classifier\n",
    "pac = PassiveAggressiveClassifier()\n",
    "# Fitting on the training set\n",
    "pac.fit(tfidf_train, y_train)\n",
    "print()"
   ]
  },
  {
   "cell_type": "code",
   "execution_count": 8,
   "id": "4b1f42c6",
   "metadata": {},
   "outputs": [],
   "source": [
    "# Predicting on the test set\n",
    "y_pred = pac.predict(tfidf_test)\n"
   ]
  },
  {
   "cell_type": "code",
   "execution_count": 9,
   "id": "07740737",
   "metadata": {},
   "outputs": [],
   "source": [
    "def predict():\n",
    "    tf_idf=input()\n",
    "    if len(tf_idf.split(\" \")) <= 50:\n",
    "        print(\"Please enter a text of more than 50 words\")\n",
    "    tfidf_test = tfidf.transform([tf_idf]) \n",
    "    y_pred = pac.predict(tfidf_test)\n",
    "    response = \"\"\n",
    "    if y_pred[0] == 0:\n",
    "        response = \"Fake \" \n",
    "    else:\n",
    "        response = \"Not Fake\"\n",
    "    print(response)"
   ]
  },
  {
   "cell_type": "code",
   "execution_count": 10,
   "id": "92c58850",
   "metadata": {},
   "outputs": [
    {
     "name": "stdout",
     "output_type": "stream",
     "text": [
      "y_confidence = pac.decision_function(tfidf_test)\n",
      "Please enter a text of more than 50 words\n",
      "Not Fake\n"
     ]
    }
   ],
   "source": [
    "predict()"
   ]
  },
  {
   "cell_type": "code",
   "execution_count": 12,
   "id": "ba9f711b",
   "metadata": {},
   "outputs": [
    {
     "name": "stdout",
     "output_type": "stream",
     "text": [
      "Accuracy: 81.63%\n",
      "F1 Score: 82.1%\n"
     ]
    }
   ],
   "source": [
    "y_confidence = pac.decision_function(tfidf_test)\n",
    "score = accuracy_score(y_test, y_pred)\n",
    "f1score=f1_score(y_test, y_pred)\n",
    "print(f'Accuracy: {round(score * 100, 2)}%')\n",
    "print(f'F1 Score: {round(f1score * 100, 2)}%')\n",
    "#print(classification_report(y_test,y_pred))"
   ]
  },
  {
   "cell_type": "code",
   "execution_count": null,
   "id": "7f7f39c7",
   "metadata": {},
   "outputs": [],
   "source": []
  }
 ],
 "metadata": {
  "kernelspec": {
   "display_name": "Python 3 (ipykernel)",
   "language": "python",
   "name": "python3"
  },
  "language_info": {
   "codemirror_mode": {
    "name": "ipython",
    "version": 3
   },
   "file_extension": ".py",
   "mimetype": "text/x-python",
   "name": "python",
   "nbconvert_exporter": "python",
   "pygments_lexer": "ipython3",
   "version": "3.10.4"
  }
 },
 "nbformat": 4,
 "nbformat_minor": 5
}
